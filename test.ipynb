{
 "cells": [
  {
   "cell_type": "code",
   "execution_count": 11,
   "id": "716908df",
   "metadata": {},
   "outputs": [
    {
     "name": "stdout",
     "output_type": "stream",
     "text": [
      "160\n"
     ]
    }
   ],
   "source": [
    "def knapsack_recursive(i, W, weights, values):\n",
    "    # Base case: no items or no capacity left\n",
    "    if i < 0 or W == 0:\n",
    "        return 0\n",
    "\n",
    "    # If item doesn't fit, skip it\n",
    "    if weights[i] > W:\n",
    "        return knapsack_recursive(i - 1, W, weights, values)\n",
    "    \n",
    "    # Otherwise, choose max of include vs exclude\n",
    "    include = values[i] + knapsack_recursive(i - 1, W - weights[i], weights, values)\n",
    "    exclude = knapsack_recursive(i - 1, W, weights, values)\n",
    "    \n",
    "    return max(include, exclude)\n",
    "\n",
    "# Example\n",
    "weights = [3, 2, 4]\n",
    "values = [60, 100, 120]\n",
    "capacity = 5\n",
    "n = len(weights)\n",
    "print(knapsack_recursive(n - 1, capacity, weights, values))  # Output: 160\n"
   ]
  },
  {
   "cell_type": "code",
   "execution_count": null,
   "id": "5a55d7cf",
   "metadata": {},
   "outputs": [],
   "source": []
  }
 ],
 "metadata": {
  "kernelspec": {
   "display_name": "Python 3",
   "language": "python",
   "name": "python3"
  },
  "language_info": {
   "codemirror_mode": {
    "name": "ipython",
    "version": 3
   },
   "file_extension": ".py",
   "mimetype": "text/x-python",
   "name": "python",
   "nbconvert_exporter": "python",
   "pygments_lexer": "ipython3",
   "version": "3.10.12"
  }
 },
 "nbformat": 4,
 "nbformat_minor": 5
}
