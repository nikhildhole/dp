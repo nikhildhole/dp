{
 "cells": [
  {
   "cell_type": "code",
   "execution_count": 8,
   "id": "5a55d7cf",
   "metadata": {},
   "outputs": [
    {
     "data": {
      "text/plain": [
       "'knapsack_tree.png'"
      ]
     },
     "execution_count": 8,
     "metadata": {},
     "output_type": "execute_result"
    }
   ],
   "source": [
    "from graphviz import Digraph\n",
    "\n",
    "def knapsack_graph(i, W, weights, values, graph, parent=None, edge_label='', node_ids=None):\n",
    "    if node_ids is None:\n",
    "        node_ids = {}\n",
    "\n",
    "    # Create a unique node id for (i, W)\n",
    "    node_id = f\"{i}_{W}\"\n",
    "\n",
    "    # Avoid duplicate nodes (optional, to show full tree, comment this out)\n",
    "    if node_id not in node_ids:\n",
    "        label = f\"knapsack({i+1},{W})\"\n",
    "        graph.node(node_id, label)\n",
    "        node_ids[node_id] = True\n",
    "\n",
    "    # Add edge from parent to this node\n",
    "    if parent:\n",
    "        graph.edge(parent, node_id, label=edge_label)\n",
    "\n",
    "    # Base case\n",
    "    if i < 0 or W == 0:\n",
    "        leaf_label = f\"Return 0\"\n",
    "        leaf_id = f\"leaf_{node_id}\"\n",
    "        graph.node(leaf_id, leaf_label, shape='box', style='filled', color='lightgrey')\n",
    "        graph.edge(node_id, leaf_id)\n",
    "        return\n",
    "\n",
    "    if weights[i] > W:\n",
    "        # Cannot include item, only exclude branch\n",
    "        knapsack_graph(i - 1, W, weights, values, graph, node_id, 'Exclude', node_ids)\n",
    "    else:\n",
    "        # Include branch\n",
    "        knapsack_graph(i - 1, W - weights[i], weights, values, graph, node_id, 'Include', node_ids)\n",
    "        # Exclude branch\n",
    "        knapsack_graph(i - 1, W, weights, values, graph, node_id, 'Exclude', node_ids)\n",
    "\n",
    "\n",
    "# Example usage\n",
    "weights = [1, 1, 1]\n",
    "values = [10, 20, 30]\n",
    "capacity = 7\n",
    "n = len(weights)\n",
    "\n",
    "dot = Digraph(comment='Knapsack Recursive Call Tree', format='png')\n",
    "knapsack_graph(n - 1, capacity, weights, values, dot)\n",
    "\n",
    "# Save and render the graph\n",
    "dot.render('knapsack_tree', view=True)\n"
   ]
  },
  {
   "cell_type": "code",
   "execution_count": null,
   "id": "ce32786f",
   "metadata": {},
   "outputs": [],
   "source": []
  }
 ],
 "metadata": {
  "kernelspec": {
   "display_name": "Python 3",
   "language": "python",
   "name": "python3"
  },
  "language_info": {
   "codemirror_mode": {
    "name": "ipython",
    "version": 3
   },
   "file_extension": ".py",
   "mimetype": "text/x-python",
   "name": "python",
   "nbconvert_exporter": "python",
   "pygments_lexer": "ipython3",
   "version": "3.10.12"
  }
 },
 "nbformat": 4,
 "nbformat_minor": 5
}
